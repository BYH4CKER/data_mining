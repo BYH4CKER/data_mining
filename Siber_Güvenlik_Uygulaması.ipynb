{
  "nbformat": 4,
  "nbformat_minor": 0,
  "metadata": {
    "colab": {
      "provenance": []
    },
    "kernelspec": {
      "name": "python3",
      "display_name": "Python 3"
    },
    "language_info": {
      "name": "python"
    }
  },
  "cells": [
    {
      "cell_type": "code",
      "execution_count": null,
      "metadata": {
        "colab": {
          "base_uri": "https://localhost:8080/"
        },
        "id": "ySwP63oUROpv",
        "outputId": "de3b1f70-64de-443c-9389-ea721e9a646c"
      },
      "outputs": [
        {
          "output_type": "stream",
          "name": "stdout",
          "text": [
            "Drive already mounted at /content/drive; to attempt to forcibly remount, call drive.mount(\"/content/drive\", force_remount=True).\n"
          ]
        }
      ],
      "source": [
        "#Drive bağladık.\n",
        "from google.colab import drive\n",
        "drive.mount('/content/drive')"
      ]
    },
    {
      "cell_type": "code",
      "source": [
        "from sklearn.preprocessing import StandardScaler\n",
        "import matplotlib.pyplot as plt\n",
        "import numpy as np\n",
        "import os\n",
        "import pandas as pd\n",
        "import seaborn as sns\n",
        "import matplotlib.pyplot as plt\n",
        "from sklearn.model_selection import train_test_split\n",
        "from sklearn.metrics import classification_report,confusion_matrix,accuracy_score,precision_recall_fscore_support\n",
        "from sklearn.metrics import f1_score\n",
        "from sklearn.ensemble import RandomForestClassifier,ExtraTreesClassifier\n",
        "from sklearn.tree import DecisionTreeClassifier\n",
        "from collections import Counter\n",
        "import xgboost as xgb\n",
        "from xgboost import plot_importance\n",
        "import time"
      ],
      "metadata": {
        "id": "iei_RiRaRzG0"
      },
      "execution_count": null,
      "outputs": []
    },
    {
      "cell_type": "code",
      "source": [
        "#Python'da bir dizin ve alt dizinlerindeki dosya ve klasör yapılarını dolaşmak (tarama yapmak) için kullanılır.\n",
        "#Sonra dosyanın tam yolu ile birliştirilir.\n",
        "for dirname, _, filenames in os.walk('/content/drive/MyDrive/CIC-IDS- 2017_Dataset/CIC-IDS- 2017'):\n",
        "    for filename in filenames:\n",
        "        print(os.path.join(dirname, filename))"
      ],
      "metadata": {
        "colab": {
          "base_uri": "https://localhost:8080/"
        },
        "id": "f19cC79GW2er",
        "outputId": "2fe5bc4e-9cb7-4987-eed7-1a83fc17e13e"
      },
      "execution_count": null,
      "outputs": [
        {
          "output_type": "stream",
          "name": "stdout",
          "text": [
            "/content/drive/MyDrive/CIC-IDS- 2017_Dataset/CIC-IDS- 2017/Friday-WorkingHours-Afternoon-DDos.pcap_ISCX.csv\n",
            "/content/drive/MyDrive/CIC-IDS- 2017_Dataset/CIC-IDS- 2017/Friday-WorkingHours-Afternoon-PortScan.pcap_ISCX.csv\n",
            "/content/drive/MyDrive/CIC-IDS- 2017_Dataset/CIC-IDS- 2017/Friday-WorkingHours-Morning.pcap_ISCX.csv\n",
            "/content/drive/MyDrive/CIC-IDS- 2017_Dataset/CIC-IDS- 2017/Monday-WorkingHours.pcap_ISCX.csv\n",
            "/content/drive/MyDrive/CIC-IDS- 2017_Dataset/CIC-IDS- 2017/Thursday-WorkingHours-Afternoon-Infilteration.pcap_ISCX.csv\n",
            "/content/drive/MyDrive/CIC-IDS- 2017_Dataset/CIC-IDS- 2017/Thursday-WorkingHours-Morning-WebAttacks.pcap_ISCX.csv\n",
            "/content/drive/MyDrive/CIC-IDS- 2017_Dataset/CIC-IDS- 2017/Tuesday-WorkingHours.pcap_ISCX.csv\n",
            "/content/drive/MyDrive/CIC-IDS- 2017_Dataset/CIC-IDS- 2017/Wednesday-workingHours.pcap_ISCX.csv\n"
          ]
        }
      ]
    },
    {
      "cell_type": "code",
      "source": [
        "#CICIDS2017 veri setini okuyun\n",
        "#Görselleştirme Seçeneklerini Ayarlama\n",
        "pd.set_option('display.max_columns', None)\n",
        "pd.set_option('display.max_rows', None)\n",
        "nRowsRead = None\n",
        "\n",
        "#Veri Setlerini Okuma\n",
        "df1 =pd.read_csv(\"/content/drive/MyDrive/CIC-IDS- 2017_Dataset/CIC-IDS- 2017/Friday-WorkingHours-Afternoon-PortScan.pcap_ISCX.csv\")\n",
        "df2 =pd.read_csv(\"/content/drive/MyDrive/CIC-IDS- 2017_Dataset/CIC-IDS- 2017/Friday-WorkingHours-Afternoon-DDos.pcap_ISCX.csv\")\n",
        "df3 =pd.read_csv(\"/content/drive/MyDrive/CIC-IDS- 2017_Dataset/CIC-IDS- 2017/Monday-WorkingHours.pcap_ISCX.csv\")\n",
        "df4 =pd.read_csv(\"/content/drive/MyDrive/CIC-IDS- 2017_Dataset/CIC-IDS- 2017/Friday-WorkingHours-Morning.pcap_ISCX.csv\")\n",
        "df5 = pd.read_csv(\"/content/drive/MyDrive/CIC-IDS- 2017_Dataset/CIC-IDS- 2017/Thursday-WorkingHours-Afternoon-Infilteration.pcap_ISCX.csv\")\n",
        "df6 = pd.read_csv(\"/content/drive/MyDrive/CIC-IDS- 2017_Dataset/CIC-IDS- 2017/Thursday-WorkingHours-Morning-WebAttacks.pcap_ISCX.csv\")\n",
        "df7 = pd.read_csv(\"/content/drive/MyDrive/CIC-IDS- 2017_Dataset/CIC-IDS- 2017/Tuesday-WorkingHours.pcap_ISCX.csv\")\n",
        "df8 = pd.read_csv(\"/content/drive/MyDrive/CIC-IDS- 2017_Dataset/CIC-IDS- 2017/Wednesday-workingHours.pcap_ISCX.csv\")\n",
        "\n",
        "#Veri Setlerini Birleştirme\n",
        "df = pd.concat([df1,df2])\n",
        "del df1,df2\n",
        "df = pd.concat([df,df3])\n",
        "del df3\n",
        "df = pd.concat([df,df4])\n",
        "del df4\n",
        "df = pd.concat([df,df5])\n",
        "del df5\n",
        "df = pd.concat([df,df6])\n",
        "del df6\n",
        "df = pd.concat([df,df7])\n",
        "del df7\n",
        "df = pd.concat([df,df8])\n",
        "del df8\n",
        "\n",
        "#Sütun İsimlerini Temizleme\n",
        "df.columns = df.columns.str.strip()\n",
        "#Veri Boyutunu Kontrol Etme\n",
        "nRow, nCol = df.shape\n",
        "print(f'The table has {nRow} rows and {nCol} columns')\n",
        "\n",
        "\n"
      ],
      "metadata": {
        "colab": {
          "base_uri": "https://localhost:8080/"
        },
        "id": "X1ZBMjqoXiAl",
        "outputId": "ebdab053-8a73-45e0-ae36-bb14367e6aad"
      },
      "execution_count": null,
      "outputs": [
        {
          "output_type": "stream",
          "name": "stdout",
          "text": [
            "The table has 2830743 rows and 79 columns\n"
          ]
        }
      ]
    },
    {
      "cell_type": "code",
      "source": [
        "df.head(5)"
      ],
      "metadata": {
        "colab": {
          "base_uri": "https://localhost:8080/",
          "height": 278
        },
        "id": "Ftc9Le_zYzM-",
        "outputId": "b47aa016-3248-42ca-df65-107745152d96"
      },
      "execution_count": null,
      "outputs": [
        {
          "output_type": "execute_result",
          "data": {
            "text/plain": [
              "   Destination Port  Flow Duration  Total Fwd Packets  Total Backward Packets  \\\n",
              "0                22        1266342                 41                      44   \n",
              "1                22        1319353                 41                      44   \n",
              "2                22            160                  1                       1   \n",
              "3                22        1303488                 41                      42   \n",
              "4             35396             77                  1                       2   \n",
              "\n",
              "   Total Length of Fwd Packets  Total Length of Bwd Packets  \\\n",
              "0                         2664                         6954   \n",
              "1                         2664                         6954   \n",
              "2                            0                            0   \n",
              "3                         2728                         6634   \n",
              "4                            0                            0   \n",
              "\n",
              "   Fwd Packet Length Max  Fwd Packet Length Min  Fwd Packet Length Mean  \\\n",
              "0                    456                      0               64.975610   \n",
              "1                    456                      0               64.975610   \n",
              "2                      0                      0                0.000000   \n",
              "3                    456                      0               66.536585   \n",
              "4                      0                      0                0.000000   \n",
              "\n",
              "   Fwd Packet Length Std  Bwd Packet Length Max  Bwd Packet Length Min  \\\n",
              "0             109.864573                    976                      0   \n",
              "1             109.864573                    976                      0   \n",
              "2               0.000000                      0                      0   \n",
              "3             110.129945                    976                      0   \n",
              "4               0.000000                      0                      0   \n",
              "\n",
              "   Bwd Packet Length Mean  Bwd Packet Length Std  Flow Bytes/s  \\\n",
              "0              158.045455             312.675250   7595.104640   \n",
              "1              158.045455             312.675250   7289.936810   \n",
              "2                0.000000               0.000000      0.000000   \n",
              "3              157.952381             319.121427   7182.267884   \n",
              "4                0.000000               0.000000      0.000000   \n",
              "\n",
              "   Flow Packets/s  Flow IAT Mean   Flow IAT Std  Flow IAT Max  Flow IAT Min  \\\n",
              "0       67.122468    15075.50000  104051.399700        948537             0   \n",
              "1       64.425518    15706.58333  104861.870100        955790             1   \n",
              "2    12500.000000      160.00000       0.000000           160           160   \n",
              "3       63.675308    15896.19512  106554.899000        956551             0   \n",
              "4    38961.038960       38.50000      14.849242            49            28   \n",
              "\n",
              "   Fwd IAT Total  Fwd IAT Mean  Fwd IAT Std  Fwd IAT Max  Fwd IAT Min  \\\n",
              "0        1266342     31658.550  159355.2595       996324            2   \n",
              "1        1319353     32983.825  159247.9008       996423            1   \n",
              "2              0         0.000       0.0000            0            0   \n",
              "3        1303488     32587.200  160397.0499       997357            1   \n",
              "4              0         0.000       0.0000            0            0   \n",
              "\n",
              "   Bwd IAT Total  Bwd IAT Mean  Bwd IAT Std  Bwd IAT Max  Bwd IAT Min  \\\n",
              "0         317671   7387.697674  19636.44809       104616            1   \n",
              "1         363429   8451.837209  21337.26261       104815            1   \n",
              "2              0      0.000000      0.00000            0            0   \n",
              "3         346851   8459.780488  23962.23892       138295            0   \n",
              "4             49     49.000000      0.00000           49           49   \n",
              "\n",
              "   Fwd PSH Flags  Bwd PSH Flags  Fwd URG Flags  Bwd URG Flags  \\\n",
              "0              0              0              0              0   \n",
              "1              0              0              0              0   \n",
              "2              0              0              0              0   \n",
              "3              0              0              0              0   \n",
              "4              0              0              0              0   \n",
              "\n",
              "   Fwd Header Length  Bwd Header Length  Fwd Packets/s  Bwd Packets/s  \\\n",
              "0               1328               1424      32.376720      34.745748   \n",
              "1               1328               1424      31.075838      33.349680   \n",
              "2                 32                 32    6250.000000    6250.000000   \n",
              "3               1328               1360      31.454068      32.221240   \n",
              "4                 32                 64   12987.012990   25974.025970   \n",
              "\n",
              "   Min Packet Length  Max Packet Length  Packet Length Mean  \\\n",
              "0                  0                976          111.837209   \n",
              "1                  0                976          111.837209   \n",
              "2                  0                  0            0.000000   \n",
              "3                  0                976          111.452381   \n",
              "4                  0                  0            0.000000   \n",
              "\n",
              "   Packet Length Std  Packet Length Variance  FIN Flag Count  SYN Flag Count  \\\n",
              "0         239.686848             57449.78495               0               0   \n",
              "1         239.686848             57449.78495               0               0   \n",
              "2           0.000000                 0.00000               0               0   \n",
              "3         241.642791             58391.23867               0               0   \n",
              "4           0.000000                 0.00000               0               0   \n",
              "\n",
              "   RST Flag Count  PSH Flag Count  ACK Flag Count  URG Flag Count  \\\n",
              "0               0               1               0               0   \n",
              "1               0               1               0               0   \n",
              "2               0               0               1               1   \n",
              "3               0               1               0               0   \n",
              "4               0               0               1               1   \n",
              "\n",
              "   CWE Flag Count  ECE Flag Count  Down/Up Ratio  Average Packet Size  \\\n",
              "0               0               0              1           113.152941   \n",
              "1               0               0              1           113.152941   \n",
              "2               0               0              1             0.000000   \n",
              "3               0               0              1           112.795181   \n",
              "4               0               0              2             0.000000   \n",
              "\n",
              "   Avg Fwd Segment Size  Avg Bwd Segment Size  Fwd Header Length.1  \\\n",
              "0             64.975610            158.045455                 1328   \n",
              "1             64.975610            158.045455                 1328   \n",
              "2              0.000000              0.000000                   32   \n",
              "3             66.536585            157.952381                 1328   \n",
              "4              0.000000              0.000000                   32   \n",
              "\n",
              "   Fwd Avg Bytes/Bulk  Fwd Avg Packets/Bulk  Fwd Avg Bulk Rate  \\\n",
              "0                   0                     0                  0   \n",
              "1                   0                     0                  0   \n",
              "2                   0                     0                  0   \n",
              "3                   0                     0                  0   \n",
              "4                   0                     0                  0   \n",
              "\n",
              "   Bwd Avg Bytes/Bulk  Bwd Avg Packets/Bulk  Bwd Avg Bulk Rate  \\\n",
              "0                   0                     0                  0   \n",
              "1                   0                     0                  0   \n",
              "2                   0                     0                  0   \n",
              "3                   0                     0                  0   \n",
              "4                   0                     0                  0   \n",
              "\n",
              "   Subflow Fwd Packets  Subflow Fwd Bytes  Subflow Bwd Packets  \\\n",
              "0                   41               2664                   44   \n",
              "1                   41               2664                   44   \n",
              "2                    1                  0                    1   \n",
              "3                   41               2728                   42   \n",
              "4                    1                  0                    2   \n",
              "\n",
              "   Subflow Bwd Bytes  Init_Win_bytes_forward  Init_Win_bytes_backward  \\\n",
              "0               6954                   29200                      243   \n",
              "1               6954                   29200                      243   \n",
              "2                  0                     290                      243   \n",
              "3               6634                   29200                      243   \n",
              "4                  0                     243                      290   \n",
              "\n",
              "   act_data_pkt_fwd  min_seg_size_forward  Active Mean  Active Std  \\\n",
              "0                24                    32          0.0         0.0   \n",
              "1                24                    32          0.0         0.0   \n",
              "2                 0                    32          0.0         0.0   \n",
              "3                24                    32          0.0         0.0   \n",
              "4                 0                    32          0.0         0.0   \n",
              "\n",
              "   Active Max  Active Min  Idle Mean  Idle Std  Idle Max  Idle Min   Label  \n",
              "0           0           0        0.0       0.0         0         0  BENIGN  \n",
              "1           0           0        0.0       0.0         0         0  BENIGN  \n",
              "2           0           0        0.0       0.0         0         0  BENIGN  \n",
              "3           0           0        0.0       0.0         0         0  BENIGN  \n",
              "4           0           0        0.0       0.0         0         0  BENIGN  "
            ],
            "text/html": [
              "\n",
              "  <div id=\"df-28f18f5f-e8ce-4de0-91e5-b783b21290d5\" class=\"colab-df-container\">\n",
              "    <div>\n",
              "<style scoped>\n",
              "    .dataframe tbody tr th:only-of-type {\n",
              "        vertical-align: middle;\n",
              "    }\n",
              "\n",
              "    .dataframe tbody tr th {\n",
              "        vertical-align: top;\n",
              "    }\n",
              "\n",
              "    .dataframe thead th {\n",
              "        text-align: right;\n",
              "    }\n",
              "</style>\n",
              "<table border=\"1\" class=\"dataframe\">\n",
              "  <thead>\n",
              "    <tr style=\"text-align: right;\">\n",
              "      <th></th>\n",
              "      <th>Destination Port</th>\n",
              "      <th>Flow Duration</th>\n",
              "      <th>Total Fwd Packets</th>\n",
              "      <th>Total Backward Packets</th>\n",
              "      <th>Total Length of Fwd Packets</th>\n",
              "      <th>Total Length of Bwd Packets</th>\n",
              "      <th>Fwd Packet Length Max</th>\n",
              "      <th>Fwd Packet Length Min</th>\n",
              "      <th>Fwd Packet Length Mean</th>\n",
              "      <th>Fwd Packet Length Std</th>\n",
              "      <th>Bwd Packet Length Max</th>\n",
              "      <th>Bwd Packet Length Min</th>\n",
              "      <th>Bwd Packet Length Mean</th>\n",
              "      <th>Bwd Packet Length Std</th>\n",
              "      <th>Flow Bytes/s</th>\n",
              "      <th>Flow Packets/s</th>\n",
              "      <th>Flow IAT Mean</th>\n",
              "      <th>Flow IAT Std</th>\n",
              "      <th>Flow IAT Max</th>\n",
              "      <th>Flow IAT Min</th>\n",
              "      <th>Fwd IAT Total</th>\n",
              "      <th>Fwd IAT Mean</th>\n",
              "      <th>Fwd IAT Std</th>\n",
              "      <th>Fwd IAT Max</th>\n",
              "      <th>Fwd IAT Min</th>\n",
              "      <th>Bwd IAT Total</th>\n",
              "      <th>Bwd IAT Mean</th>\n",
              "      <th>Bwd IAT Std</th>\n",
              "      <th>Bwd IAT Max</th>\n",
              "      <th>Bwd IAT Min</th>\n",
              "      <th>Fwd PSH Flags</th>\n",
              "      <th>Bwd PSH Flags</th>\n",
              "      <th>Fwd URG Flags</th>\n",
              "      <th>Bwd URG Flags</th>\n",
              "      <th>Fwd Header Length</th>\n",
              "      <th>Bwd Header Length</th>\n",
              "      <th>Fwd Packets/s</th>\n",
              "      <th>Bwd Packets/s</th>\n",
              "      <th>Min Packet Length</th>\n",
              "      <th>Max Packet Length</th>\n",
              "      <th>Packet Length Mean</th>\n",
              "      <th>Packet Length Std</th>\n",
              "      <th>Packet Length Variance</th>\n",
              "      <th>FIN Flag Count</th>\n",
              "      <th>SYN Flag Count</th>\n",
              "      <th>RST Flag Count</th>\n",
              "      <th>PSH Flag Count</th>\n",
              "      <th>ACK Flag Count</th>\n",
              "      <th>URG Flag Count</th>\n",
              "      <th>CWE Flag Count</th>\n",
              "      <th>ECE Flag Count</th>\n",
              "      <th>Down/Up Ratio</th>\n",
              "      <th>Average Packet Size</th>\n",
              "      <th>Avg Fwd Segment Size</th>\n",
              "      <th>Avg Bwd Segment Size</th>\n",
              "      <th>Fwd Header Length.1</th>\n",
              "      <th>Fwd Avg Bytes/Bulk</th>\n",
              "      <th>Fwd Avg Packets/Bulk</th>\n",
              "      <th>Fwd Avg Bulk Rate</th>\n",
              "      <th>Bwd Avg Bytes/Bulk</th>\n",
              "      <th>Bwd Avg Packets/Bulk</th>\n",
              "      <th>Bwd Avg Bulk Rate</th>\n",
              "      <th>Subflow Fwd Packets</th>\n",
              "      <th>Subflow Fwd Bytes</th>\n",
              "      <th>Subflow Bwd Packets</th>\n",
              "      <th>Subflow Bwd Bytes</th>\n",
              "      <th>Init_Win_bytes_forward</th>\n",
              "      <th>Init_Win_bytes_backward</th>\n",
              "      <th>act_data_pkt_fwd</th>\n",
              "      <th>min_seg_size_forward</th>\n",
              "      <th>Active Mean</th>\n",
              "      <th>Active Std</th>\n",
              "      <th>Active Max</th>\n",
              "      <th>Active Min</th>\n",
              "      <th>Idle Mean</th>\n",
              "      <th>Idle Std</th>\n",
              "      <th>Idle Max</th>\n",
              "      <th>Idle Min</th>\n",
              "      <th>Label</th>\n",
              "    </tr>\n",
              "  </thead>\n",
              "  <tbody>\n",
              "    <tr>\n",
              "      <th>0</th>\n",
              "      <td>22</td>\n",
              "      <td>1266342</td>\n",
              "      <td>41</td>\n",
              "      <td>44</td>\n",
              "      <td>2664</td>\n",
              "      <td>6954</td>\n",
              "      <td>456</td>\n",
              "      <td>0</td>\n",
              "      <td>64.975610</td>\n",
              "      <td>109.864573</td>\n",
              "      <td>976</td>\n",
              "      <td>0</td>\n",
              "      <td>158.045455</td>\n",
              "      <td>312.675250</td>\n",
              "      <td>7595.104640</td>\n",
              "      <td>67.122468</td>\n",
              "      <td>15075.50000</td>\n",
              "      <td>104051.399700</td>\n",
              "      <td>948537</td>\n",
              "      <td>0</td>\n",
              "      <td>1266342</td>\n",
              "      <td>31658.550</td>\n",
              "      <td>159355.2595</td>\n",
              "      <td>996324</td>\n",
              "      <td>2</td>\n",
              "      <td>317671</td>\n",
              "      <td>7387.697674</td>\n",
              "      <td>19636.44809</td>\n",
              "      <td>104616</td>\n",
              "      <td>1</td>\n",
              "      <td>0</td>\n",
              "      <td>0</td>\n",
              "      <td>0</td>\n",
              "      <td>0</td>\n",
              "      <td>1328</td>\n",
              "      <td>1424</td>\n",
              "      <td>32.376720</td>\n",
              "      <td>34.745748</td>\n",
              "      <td>0</td>\n",
              "      <td>976</td>\n",
              "      <td>111.837209</td>\n",
              "      <td>239.686848</td>\n",
              "      <td>57449.78495</td>\n",
              "      <td>0</td>\n",
              "      <td>0</td>\n",
              "      <td>0</td>\n",
              "      <td>1</td>\n",
              "      <td>0</td>\n",
              "      <td>0</td>\n",
              "      <td>0</td>\n",
              "      <td>0</td>\n",
              "      <td>1</td>\n",
              "      <td>113.152941</td>\n",
              "      <td>64.975610</td>\n",
              "      <td>158.045455</td>\n",
              "      <td>1328</td>\n",
              "      <td>0</td>\n",
              "      <td>0</td>\n",
              "      <td>0</td>\n",
              "      <td>0</td>\n",
              "      <td>0</td>\n",
              "      <td>0</td>\n",
              "      <td>41</td>\n",
              "      <td>2664</td>\n",
              "      <td>44</td>\n",
              "      <td>6954</td>\n",
              "      <td>29200</td>\n",
              "      <td>243</td>\n",
              "      <td>24</td>\n",
              "      <td>32</td>\n",
              "      <td>0.0</td>\n",
              "      <td>0.0</td>\n",
              "      <td>0</td>\n",
              "      <td>0</td>\n",
              "      <td>0.0</td>\n",
              "      <td>0.0</td>\n",
              "      <td>0</td>\n",
              "      <td>0</td>\n",
              "      <td>BENIGN</td>\n",
              "    </tr>\n",
              "    <tr>\n",
              "      <th>1</th>\n",
              "      <td>22</td>\n",
              "      <td>1319353</td>\n",
              "      <td>41</td>\n",
              "      <td>44</td>\n",
              "      <td>2664</td>\n",
              "      <td>6954</td>\n",
              "      <td>456</td>\n",
              "      <td>0</td>\n",
              "      <td>64.975610</td>\n",
              "      <td>109.864573</td>\n",
              "      <td>976</td>\n",
              "      <td>0</td>\n",
              "      <td>158.045455</td>\n",
              "      <td>312.675250</td>\n",
              "      <td>7289.936810</td>\n",
              "      <td>64.425518</td>\n",
              "      <td>15706.58333</td>\n",
              "      <td>104861.870100</td>\n",
              "      <td>955790</td>\n",
              "      <td>1</td>\n",
              "      <td>1319353</td>\n",
              "      <td>32983.825</td>\n",
              "      <td>159247.9008</td>\n",
              "      <td>996423</td>\n",
              "      <td>1</td>\n",
              "      <td>363429</td>\n",
              "      <td>8451.837209</td>\n",
              "      <td>21337.26261</td>\n",
              "      <td>104815</td>\n",
              "      <td>1</td>\n",
              "      <td>0</td>\n",
              "      <td>0</td>\n",
              "      <td>0</td>\n",
              "      <td>0</td>\n",
              "      <td>1328</td>\n",
              "      <td>1424</td>\n",
              "      <td>31.075838</td>\n",
              "      <td>33.349680</td>\n",
              "      <td>0</td>\n",
              "      <td>976</td>\n",
              "      <td>111.837209</td>\n",
              "      <td>239.686848</td>\n",
              "      <td>57449.78495</td>\n",
              "      <td>0</td>\n",
              "      <td>0</td>\n",
              "      <td>0</td>\n",
              "      <td>1</td>\n",
              "      <td>0</td>\n",
              "      <td>0</td>\n",
              "      <td>0</td>\n",
              "      <td>0</td>\n",
              "      <td>1</td>\n",
              "      <td>113.152941</td>\n",
              "      <td>64.975610</td>\n",
              "      <td>158.045455</td>\n",
              "      <td>1328</td>\n",
              "      <td>0</td>\n",
              "      <td>0</td>\n",
              "      <td>0</td>\n",
              "      <td>0</td>\n",
              "      <td>0</td>\n",
              "      <td>0</td>\n",
              "      <td>41</td>\n",
              "      <td>2664</td>\n",
              "      <td>44</td>\n",
              "      <td>6954</td>\n",
              "      <td>29200</td>\n",
              "      <td>243</td>\n",
              "      <td>24</td>\n",
              "      <td>32</td>\n",
              "      <td>0.0</td>\n",
              "      <td>0.0</td>\n",
              "      <td>0</td>\n",
              "      <td>0</td>\n",
              "      <td>0.0</td>\n",
              "      <td>0.0</td>\n",
              "      <td>0</td>\n",
              "      <td>0</td>\n",
              "      <td>BENIGN</td>\n",
              "    </tr>\n",
              "    <tr>\n",
              "      <th>2</th>\n",
              "      <td>22</td>\n",
              "      <td>160</td>\n",
              "      <td>1</td>\n",
              "      <td>1</td>\n",
              "      <td>0</td>\n",
              "      <td>0</td>\n",
              "      <td>0</td>\n",
              "      <td>0</td>\n",
              "      <td>0.000000</td>\n",
              "      <td>0.000000</td>\n",
              "      <td>0</td>\n",
              "      <td>0</td>\n",
              "      <td>0.000000</td>\n",
              "      <td>0.000000</td>\n",
              "      <td>0.000000</td>\n",
              "      <td>12500.000000</td>\n",
              "      <td>160.00000</td>\n",
              "      <td>0.000000</td>\n",
              "      <td>160</td>\n",
              "      <td>160</td>\n",
              "      <td>0</td>\n",
              "      <td>0.000</td>\n",
              "      <td>0.0000</td>\n",
              "      <td>0</td>\n",
              "      <td>0</td>\n",
              "      <td>0</td>\n",
              "      <td>0.000000</td>\n",
              "      <td>0.00000</td>\n",
              "      <td>0</td>\n",
              "      <td>0</td>\n",
              "      <td>0</td>\n",
              "      <td>0</td>\n",
              "      <td>0</td>\n",
              "      <td>0</td>\n",
              "      <td>32</td>\n",
              "      <td>32</td>\n",
              "      <td>6250.000000</td>\n",
              "      <td>6250.000000</td>\n",
              "      <td>0</td>\n",
              "      <td>0</td>\n",
              "      <td>0.000000</td>\n",
              "      <td>0.000000</td>\n",
              "      <td>0.00000</td>\n",
              "      <td>0</td>\n",
              "      <td>0</td>\n",
              "      <td>0</td>\n",
              "      <td>0</td>\n",
              "      <td>1</td>\n",
              "      <td>1</td>\n",
              "      <td>0</td>\n",
              "      <td>0</td>\n",
              "      <td>1</td>\n",
              "      <td>0.000000</td>\n",
              "      <td>0.000000</td>\n",
              "      <td>0.000000</td>\n",
              "      <td>32</td>\n",
              "      <td>0</td>\n",
              "      <td>0</td>\n",
              "      <td>0</td>\n",
              "      <td>0</td>\n",
              "      <td>0</td>\n",
              "      <td>0</td>\n",
              "      <td>1</td>\n",
              "      <td>0</td>\n",
              "      <td>1</td>\n",
              "      <td>0</td>\n",
              "      <td>290</td>\n",
              "      <td>243</td>\n",
              "      <td>0</td>\n",
              "      <td>32</td>\n",
              "      <td>0.0</td>\n",
              "      <td>0.0</td>\n",
              "      <td>0</td>\n",
              "      <td>0</td>\n",
              "      <td>0.0</td>\n",
              "      <td>0.0</td>\n",
              "      <td>0</td>\n",
              "      <td>0</td>\n",
              "      <td>BENIGN</td>\n",
              "    </tr>\n",
              "    <tr>\n",
              "      <th>3</th>\n",
              "      <td>22</td>\n",
              "      <td>1303488</td>\n",
              "      <td>41</td>\n",
              "      <td>42</td>\n",
              "      <td>2728</td>\n",
              "      <td>6634</td>\n",
              "      <td>456</td>\n",
              "      <td>0</td>\n",
              "      <td>66.536585</td>\n",
              "      <td>110.129945</td>\n",
              "      <td>976</td>\n",
              "      <td>0</td>\n",
              "      <td>157.952381</td>\n",
              "      <td>319.121427</td>\n",
              "      <td>7182.267884</td>\n",
              "      <td>63.675308</td>\n",
              "      <td>15896.19512</td>\n",
              "      <td>106554.899000</td>\n",
              "      <td>956551</td>\n",
              "      <td>0</td>\n",
              "      <td>1303488</td>\n",
              "      <td>32587.200</td>\n",
              "      <td>160397.0499</td>\n",
              "      <td>997357</td>\n",
              "      <td>1</td>\n",
              "      <td>346851</td>\n",
              "      <td>8459.780488</td>\n",
              "      <td>23962.23892</td>\n",
              "      <td>138295</td>\n",
              "      <td>0</td>\n",
              "      <td>0</td>\n",
              "      <td>0</td>\n",
              "      <td>0</td>\n",
              "      <td>0</td>\n",
              "      <td>1328</td>\n",
              "      <td>1360</td>\n",
              "      <td>31.454068</td>\n",
              "      <td>32.221240</td>\n",
              "      <td>0</td>\n",
              "      <td>976</td>\n",
              "      <td>111.452381</td>\n",
              "      <td>241.642791</td>\n",
              "      <td>58391.23867</td>\n",
              "      <td>0</td>\n",
              "      <td>0</td>\n",
              "      <td>0</td>\n",
              "      <td>1</td>\n",
              "      <td>0</td>\n",
              "      <td>0</td>\n",
              "      <td>0</td>\n",
              "      <td>0</td>\n",
              "      <td>1</td>\n",
              "      <td>112.795181</td>\n",
              "      <td>66.536585</td>\n",
              "      <td>157.952381</td>\n",
              "      <td>1328</td>\n",
              "      <td>0</td>\n",
              "      <td>0</td>\n",
              "      <td>0</td>\n",
              "      <td>0</td>\n",
              "      <td>0</td>\n",
              "      <td>0</td>\n",
              "      <td>41</td>\n",
              "      <td>2728</td>\n",
              "      <td>42</td>\n",
              "      <td>6634</td>\n",
              "      <td>29200</td>\n",
              "      <td>243</td>\n",
              "      <td>24</td>\n",
              "      <td>32</td>\n",
              "      <td>0.0</td>\n",
              "      <td>0.0</td>\n",
              "      <td>0</td>\n",
              "      <td>0</td>\n",
              "      <td>0.0</td>\n",
              "      <td>0.0</td>\n",
              "      <td>0</td>\n",
              "      <td>0</td>\n",
              "      <td>BENIGN</td>\n",
              "    </tr>\n",
              "    <tr>\n",
              "      <th>4</th>\n",
              "      <td>35396</td>\n",
              "      <td>77</td>\n",
              "      <td>1</td>\n",
              "      <td>2</td>\n",
              "      <td>0</td>\n",
              "      <td>0</td>\n",
              "      <td>0</td>\n",
              "      <td>0</td>\n",
              "      <td>0.000000</td>\n",
              "      <td>0.000000</td>\n",
              "      <td>0</td>\n",
              "      <td>0</td>\n",
              "      <td>0.000000</td>\n",
              "      <td>0.000000</td>\n",
              "      <td>0.000000</td>\n",
              "      <td>38961.038960</td>\n",
              "      <td>38.50000</td>\n",
              "      <td>14.849242</td>\n",
              "      <td>49</td>\n",
              "      <td>28</td>\n",
              "      <td>0</td>\n",
              "      <td>0.000</td>\n",
              "      <td>0.0000</td>\n",
              "      <td>0</td>\n",
              "      <td>0</td>\n",
              "      <td>49</td>\n",
              "      <td>49.000000</td>\n",
              "      <td>0.00000</td>\n",
              "      <td>49</td>\n",
              "      <td>49</td>\n",
              "      <td>0</td>\n",
              "      <td>0</td>\n",
              "      <td>0</td>\n",
              "      <td>0</td>\n",
              "      <td>32</td>\n",
              "      <td>64</td>\n",
              "      <td>12987.012990</td>\n",
              "      <td>25974.025970</td>\n",
              "      <td>0</td>\n",
              "      <td>0</td>\n",
              "      <td>0.000000</td>\n",
              "      <td>0.000000</td>\n",
              "      <td>0.00000</td>\n",
              "      <td>0</td>\n",
              "      <td>0</td>\n",
              "      <td>0</td>\n",
              "      <td>0</td>\n",
              "      <td>1</td>\n",
              "      <td>1</td>\n",
              "      <td>0</td>\n",
              "      <td>0</td>\n",
              "      <td>2</td>\n",
              "      <td>0.000000</td>\n",
              "      <td>0.000000</td>\n",
              "      <td>0.000000</td>\n",
              "      <td>32</td>\n",
              "      <td>0</td>\n",
              "      <td>0</td>\n",
              "      <td>0</td>\n",
              "      <td>0</td>\n",
              "      <td>0</td>\n",
              "      <td>0</td>\n",
              "      <td>1</td>\n",
              "      <td>0</td>\n",
              "      <td>2</td>\n",
              "      <td>0</td>\n",
              "      <td>243</td>\n",
              "      <td>290</td>\n",
              "      <td>0</td>\n",
              "      <td>32</td>\n",
              "      <td>0.0</td>\n",
              "      <td>0.0</td>\n",
              "      <td>0</td>\n",
              "      <td>0</td>\n",
              "      <td>0.0</td>\n",
              "      <td>0.0</td>\n",
              "      <td>0</td>\n",
              "      <td>0</td>\n",
              "      <td>BENIGN</td>\n",
              "    </tr>\n",
              "  </tbody>\n",
              "</table>\n",
              "</div>\n",
              "    <div class=\"colab-df-buttons\">\n",
              "\n",
              "  <div class=\"colab-df-container\">\n",
              "    <button class=\"colab-df-convert\" onclick=\"convertToInteractive('df-28f18f5f-e8ce-4de0-91e5-b783b21290d5')\"\n",
              "            title=\"Convert this dataframe to an interactive table.\"\n",
              "            style=\"display:none;\">\n",
              "\n",
              "  <svg xmlns=\"http://www.w3.org/2000/svg\" height=\"24px\" viewBox=\"0 -960 960 960\">\n",
              "    <path d=\"M120-120v-720h720v720H120Zm60-500h600v-160H180v160Zm220 220h160v-160H400v160Zm0 220h160v-160H400v160ZM180-400h160v-160H180v160Zm440 0h160v-160H620v160ZM180-180h160v-160H180v160Zm440 0h160v-160H620v160Z\"/>\n",
              "  </svg>\n",
              "    </button>\n",
              "\n",
              "  <style>\n",
              "    .colab-df-container {\n",
              "      display:flex;\n",
              "      gap: 12px;\n",
              "    }\n",
              "\n",
              "    .colab-df-convert {\n",
              "      background-color: #E8F0FE;\n",
              "      border: none;\n",
              "      border-radius: 50%;\n",
              "      cursor: pointer;\n",
              "      display: none;\n",
              "      fill: #1967D2;\n",
              "      height: 32px;\n",
              "      padding: 0 0 0 0;\n",
              "      width: 32px;\n",
              "    }\n",
              "\n",
              "    .colab-df-convert:hover {\n",
              "      background-color: #E2EBFA;\n",
              "      box-shadow: 0px 1px 2px rgba(60, 64, 67, 0.3), 0px 1px 3px 1px rgba(60, 64, 67, 0.15);\n",
              "      fill: #174EA6;\n",
              "    }\n",
              "\n",
              "    .colab-df-buttons div {\n",
              "      margin-bottom: 4px;\n",
              "    }\n",
              "\n",
              "    [theme=dark] .colab-df-convert {\n",
              "      background-color: #3B4455;\n",
              "      fill: #D2E3FC;\n",
              "    }\n",
              "\n",
              "    [theme=dark] .colab-df-convert:hover {\n",
              "      background-color: #434B5C;\n",
              "      box-shadow: 0px 1px 3px 1px rgba(0, 0, 0, 0.15);\n",
              "      filter: drop-shadow(0px 1px 2px rgba(0, 0, 0, 0.3));\n",
              "      fill: #FFFFFF;\n",
              "    }\n",
              "  </style>\n",
              "\n",
              "    <script>\n",
              "      const buttonEl =\n",
              "        document.querySelector('#df-28f18f5f-e8ce-4de0-91e5-b783b21290d5 button.colab-df-convert');\n",
              "      buttonEl.style.display =\n",
              "        google.colab.kernel.accessAllowed ? 'block' : 'none';\n",
              "\n",
              "      async function convertToInteractive(key) {\n",
              "        const element = document.querySelector('#df-28f18f5f-e8ce-4de0-91e5-b783b21290d5');\n",
              "        const dataTable =\n",
              "          await google.colab.kernel.invokeFunction('convertToInteractive',\n",
              "                                                    [key], {});\n",
              "        if (!dataTable) return;\n",
              "\n",
              "        const docLinkHtml = 'Like what you see? Visit the ' +\n",
              "          '<a target=\"_blank\" href=https://colab.research.google.com/notebooks/data_table.ipynb>data table notebook</a>'\n",
              "          + ' to learn more about interactive tables.';\n",
              "        element.innerHTML = '';\n",
              "        dataTable['output_type'] = 'display_data';\n",
              "        await google.colab.output.renderOutput(dataTable, element);\n",
              "        const docLink = document.createElement('div');\n",
              "        docLink.innerHTML = docLinkHtml;\n",
              "        element.appendChild(docLink);\n",
              "      }\n",
              "    </script>\n",
              "  </div>\n",
              "\n",
              "\n",
              "<div id=\"df-2ace22bb-32ea-4543-8f1c-64d9107a511d\">\n",
              "  <button class=\"colab-df-quickchart\" onclick=\"quickchart('df-2ace22bb-32ea-4543-8f1c-64d9107a511d')\"\n",
              "            title=\"Suggest charts\"\n",
              "            style=\"display:none;\">\n",
              "\n",
              "<svg xmlns=\"http://www.w3.org/2000/svg\" height=\"24px\"viewBox=\"0 0 24 24\"\n",
              "     width=\"24px\">\n",
              "    <g>\n",
              "        <path d=\"M19 3H5c-1.1 0-2 .9-2 2v14c0 1.1.9 2 2 2h14c1.1 0 2-.9 2-2V5c0-1.1-.9-2-2-2zM9 17H7v-7h2v7zm4 0h-2V7h2v10zm4 0h-2v-4h2v4z\"/>\n",
              "    </g>\n",
              "</svg>\n",
              "  </button>\n",
              "\n",
              "<style>\n",
              "  .colab-df-quickchart {\n",
              "      --bg-color: #E8F0FE;\n",
              "      --fill-color: #1967D2;\n",
              "      --hover-bg-color: #E2EBFA;\n",
              "      --hover-fill-color: #174EA6;\n",
              "      --disabled-fill-color: #AAA;\n",
              "      --disabled-bg-color: #DDD;\n",
              "  }\n",
              "\n",
              "  [theme=dark] .colab-df-quickchart {\n",
              "      --bg-color: #3B4455;\n",
              "      --fill-color: #D2E3FC;\n",
              "      --hover-bg-color: #434B5C;\n",
              "      --hover-fill-color: #FFFFFF;\n",
              "      --disabled-bg-color: #3B4455;\n",
              "      --disabled-fill-color: #666;\n",
              "  }\n",
              "\n",
              "  .colab-df-quickchart {\n",
              "    background-color: var(--bg-color);\n",
              "    border: none;\n",
              "    border-radius: 50%;\n",
              "    cursor: pointer;\n",
              "    display: none;\n",
              "    fill: var(--fill-color);\n",
              "    height: 32px;\n",
              "    padding: 0;\n",
              "    width: 32px;\n",
              "  }\n",
              "\n",
              "  .colab-df-quickchart:hover {\n",
              "    background-color: var(--hover-bg-color);\n",
              "    box-shadow: 0 1px 2px rgba(60, 64, 67, 0.3), 0 1px 3px 1px rgba(60, 64, 67, 0.15);\n",
              "    fill: var(--button-hover-fill-color);\n",
              "  }\n",
              "\n",
              "  .colab-df-quickchart-complete:disabled,\n",
              "  .colab-df-quickchart-complete:disabled:hover {\n",
              "    background-color: var(--disabled-bg-color);\n",
              "    fill: var(--disabled-fill-color);\n",
              "    box-shadow: none;\n",
              "  }\n",
              "\n",
              "  .colab-df-spinner {\n",
              "    border: 2px solid var(--fill-color);\n",
              "    border-color: transparent;\n",
              "    border-bottom-color: var(--fill-color);\n",
              "    animation:\n",
              "      spin 1s steps(1) infinite;\n",
              "  }\n",
              "\n",
              "  @keyframes spin {\n",
              "    0% {\n",
              "      border-color: transparent;\n",
              "      border-bottom-color: var(--fill-color);\n",
              "      border-left-color: var(--fill-color);\n",
              "    }\n",
              "    20% {\n",
              "      border-color: transparent;\n",
              "      border-left-color: var(--fill-color);\n",
              "      border-top-color: var(--fill-color);\n",
              "    }\n",
              "    30% {\n",
              "      border-color: transparent;\n",
              "      border-left-color: var(--fill-color);\n",
              "      border-top-color: var(--fill-color);\n",
              "      border-right-color: var(--fill-color);\n",
              "    }\n",
              "    40% {\n",
              "      border-color: transparent;\n",
              "      border-right-color: var(--fill-color);\n",
              "      border-top-color: var(--fill-color);\n",
              "    }\n",
              "    60% {\n",
              "      border-color: transparent;\n",
              "      border-right-color: var(--fill-color);\n",
              "    }\n",
              "    80% {\n",
              "      border-color: transparent;\n",
              "      border-right-color: var(--fill-color);\n",
              "      border-bottom-color: var(--fill-color);\n",
              "    }\n",
              "    90% {\n",
              "      border-color: transparent;\n",
              "      border-bottom-color: var(--fill-color);\n",
              "    }\n",
              "  }\n",
              "</style>\n",
              "\n",
              "  <script>\n",
              "    async function quickchart(key) {\n",
              "      const quickchartButtonEl =\n",
              "        document.querySelector('#' + key + ' button');\n",
              "      quickchartButtonEl.disabled = true;  // To prevent multiple clicks.\n",
              "      quickchartButtonEl.classList.add('colab-df-spinner');\n",
              "      try {\n",
              "        const charts = await google.colab.kernel.invokeFunction(\n",
              "            'suggestCharts', [key], {});\n",
              "      } catch (error) {\n",
              "        console.error('Error during call to suggestCharts:', error);\n",
              "      }\n",
              "      quickchartButtonEl.classList.remove('colab-df-spinner');\n",
              "      quickchartButtonEl.classList.add('colab-df-quickchart-complete');\n",
              "    }\n",
              "    (() => {\n",
              "      let quickchartButtonEl =\n",
              "        document.querySelector('#df-2ace22bb-32ea-4543-8f1c-64d9107a511d button');\n",
              "      quickchartButtonEl.style.display =\n",
              "        google.colab.kernel.accessAllowed ? 'block' : 'none';\n",
              "    })();\n",
              "  </script>\n",
              "</div>\n",
              "\n",
              "    </div>\n",
              "  </div>\n"
            ],
            "application/vnd.google.colaboratory.intrinsic+json": {
              "type": "dataframe",
              "variable_name": "df"
            }
          },
          "metadata": {},
          "execution_count": 91
        }
      ]
    },
    {
      "cell_type": "code",
      "source": [
        "#Hangi sınıfların veri setinde ne kadar temsil edildiğini görmenizi sağlar.\n",
        "df.Label.value_counts()"
      ],
      "metadata": {
        "colab": {
          "base_uri": "https://localhost:8080/",
          "height": 554
        },
        "id": "drgsLwCaY2zm",
        "outputId": "dcd99c77-3bee-431b-a5f8-e826c56e1f9e"
      },
      "execution_count": null,
      "outputs": [
        {
          "output_type": "execute_result",
          "data": {
            "text/plain": [
              "Label\n",
              "BENIGN                        2273097\n",
              "DoS Hulk                       231073\n",
              "PortScan                       158930\n",
              "DDoS                           128027\n",
              "DoS GoldenEye                   10293\n",
              "FTP-Patator                      7938\n",
              "SSH-Patator                      5897\n",
              "DoS slowloris                    5796\n",
              "DoS Slowhttptest                 5499\n",
              "Bot                              1966\n",
              "Web Attack � Brute Force         1507\n",
              "Web Attack � XSS                  652\n",
              "Web Attack � Sql Injection         21\n",
              "Heartbleed                         11\n",
              "Name: count, dtype: int64"
            ],
            "text/html": [
              "<div>\n",
              "<style scoped>\n",
              "    .dataframe tbody tr th:only-of-type {\n",
              "        vertical-align: middle;\n",
              "    }\n",
              "\n",
              "    .dataframe tbody tr th {\n",
              "        vertical-align: top;\n",
              "    }\n",
              "\n",
              "    .dataframe thead th {\n",
              "        text-align: right;\n",
              "    }\n",
              "</style>\n",
              "<table border=\"1\" class=\"dataframe\">\n",
              "  <thead>\n",
              "    <tr style=\"text-align: right;\">\n",
              "      <th></th>\n",
              "      <th>count</th>\n",
              "    </tr>\n",
              "    <tr>\n",
              "      <th>Label</th>\n",
              "      <th></th>\n",
              "    </tr>\n",
              "  </thead>\n",
              "  <tbody>\n",
              "    <tr>\n",
              "      <th>BENIGN</th>\n",
              "      <td>2273097</td>\n",
              "    </tr>\n",
              "    <tr>\n",
              "      <th>DoS Hulk</th>\n",
              "      <td>231073</td>\n",
              "    </tr>\n",
              "    <tr>\n",
              "      <th>PortScan</th>\n",
              "      <td>158930</td>\n",
              "    </tr>\n",
              "    <tr>\n",
              "      <th>DDoS</th>\n",
              "      <td>128027</td>\n",
              "    </tr>\n",
              "    <tr>\n",
              "      <th>DoS GoldenEye</th>\n",
              "      <td>10293</td>\n",
              "    </tr>\n",
              "    <tr>\n",
              "      <th>FTP-Patator</th>\n",
              "      <td>7938</td>\n",
              "    </tr>\n",
              "    <tr>\n",
              "      <th>SSH-Patator</th>\n",
              "      <td>5897</td>\n",
              "    </tr>\n",
              "    <tr>\n",
              "      <th>DoS slowloris</th>\n",
              "      <td>5796</td>\n",
              "    </tr>\n",
              "    <tr>\n",
              "      <th>DoS Slowhttptest</th>\n",
              "      <td>5499</td>\n",
              "    </tr>\n",
              "    <tr>\n",
              "      <th>Bot</th>\n",
              "      <td>1966</td>\n",
              "    </tr>\n",
              "    <tr>\n",
              "      <th>Web Attack � Brute Force</th>\n",
              "      <td>1507</td>\n",
              "    </tr>\n",
              "    <tr>\n",
              "      <th>Web Attack � XSS</th>\n",
              "      <td>652</td>\n",
              "    </tr>\n",
              "    <tr>\n",
              "      <th>Web Attack � Sql Injection</th>\n",
              "      <td>21</td>\n",
              "    </tr>\n",
              "    <tr>\n",
              "      <th>Heartbleed</th>\n",
              "      <td>11</td>\n",
              "    </tr>\n",
              "  </tbody>\n",
              "</table>\n",
              "</div><br><label><b>dtype:</b> int64</label>"
            ]
          },
          "metadata": {},
          "execution_count": 92
        }
      ]
    },
    {
      "cell_type": "code",
      "source": [
        "#Yeniden etiketleme\n",
        "label_mapping = {\n",
        "    'BENIGN': 'Normal',\n",
        "    'Bot': 'Botnet',\n",
        "    'FTP-Patator': 'Brute Force',\n",
        "    'SSH-Patator': 'Brute Force',\n",
        "    'DoS Hulk': 'DoS/DDoS',\n",
        "    'DoS GoldenEye': 'DoS/DDoS',\n",
        "    'DoS slowloris': 'DoS/DDoS',\n",
        "    'DoS Slowhttptest': 'DoS/DDoS',\n",
        "    'DDoS': 'DoS/DDoS',\n",
        "    'Heartbleed': 'DoS/DDoS',\n",
        "    'Infiltration': 'Infiltration',\n",
        "    'PortScan': 'Port Scan',\n",
        "    'Web Attack � Brute Force': 'Web Attack',\n",
        "    'Web Attack � XSS': 'Web Attack',\n",
        "    'Web Attack � Sql Injection': 'Web Attack'\n",
        "}\n",
        "\n",
        "df['Label'] = df['Label'].map(label_mapping)"
      ],
      "metadata": {
        "id": "EaDe1Nm2ZIJb"
      },
      "execution_count": null,
      "outputs": []
    },
    {
      "cell_type": "code",
      "source": [
        "#Her benzersiz değeri sayar.\n",
        "#Sonuçları azalan sırada sıralar (en çok tekrarlanan sınıf en üstte olur).\n",
        "df.Label.value_counts()"
      ],
      "metadata": {
        "colab": {
          "base_uri": "https://localhost:8080/",
          "height": 303
        },
        "id": "mOShTF5xZh8d",
        "outputId": "b85c6f0d-43b9-4be5-9338-da96a9b15298"
      },
      "execution_count": null,
      "outputs": [
        {
          "output_type": "execute_result",
          "data": {
            "text/plain": [
              "Label\n",
              "Normal         2273097\n",
              "DoS/DDoS        380699\n",
              "Port Scan       158930\n",
              "Brute Force      13835\n",
              "Web Attack        2180\n",
              "Botnet            1966\n",
              "Name: count, dtype: int64"
            ],
            "text/html": [
              "<div>\n",
              "<style scoped>\n",
              "    .dataframe tbody tr th:only-of-type {\n",
              "        vertical-align: middle;\n",
              "    }\n",
              "\n",
              "    .dataframe tbody tr th {\n",
              "        vertical-align: top;\n",
              "    }\n",
              "\n",
              "    .dataframe thead th {\n",
              "        text-align: right;\n",
              "    }\n",
              "</style>\n",
              "<table border=\"1\" class=\"dataframe\">\n",
              "  <thead>\n",
              "    <tr style=\"text-align: right;\">\n",
              "      <th></th>\n",
              "      <th>count</th>\n",
              "    </tr>\n",
              "    <tr>\n",
              "      <th>Label</th>\n",
              "      <th></th>\n",
              "    </tr>\n",
              "  </thead>\n",
              "  <tbody>\n",
              "    <tr>\n",
              "      <th>Normal</th>\n",
              "      <td>2273097</td>\n",
              "    </tr>\n",
              "    <tr>\n",
              "      <th>DoS/DDoS</th>\n",
              "      <td>380699</td>\n",
              "    </tr>\n",
              "    <tr>\n",
              "      <th>Port Scan</th>\n",
              "      <td>158930</td>\n",
              "    </tr>\n",
              "    <tr>\n",
              "      <th>Brute Force</th>\n",
              "      <td>13835</td>\n",
              "    </tr>\n",
              "    <tr>\n",
              "      <th>Web Attack</th>\n",
              "      <td>2180</td>\n",
              "    </tr>\n",
              "    <tr>\n",
              "      <th>Botnet</th>\n",
              "      <td>1966</td>\n",
              "    </tr>\n",
              "  </tbody>\n",
              "</table>\n",
              "</div><br><label><b>dtype:</b> int64</label>"
            ]
          },
          "metadata": {},
          "execution_count": 94
        }
      ]
    },
    {
      "cell_type": "code",
      "source": [
        "#Rastgele örnekleme\n",
        "from sklearn.utils import resample\n",
        "\n",
        "\n",
        "#Veri çerçevesindeki Infiltration sınıfı kaldırılır.\n",
        "df = df[df['Label'] != 'Infiltration']\n",
        "\n",
        "# Her sınıf için örnek boyut aralığını tanımlayın\n",
        "#Örnek Boyut Aralığını Tanımlama\n",
        "min_samples = 2000\n",
        "max_samples = 2200\n",
        "# [min_samples, max_samples] aralığında rastgele örnekleme işlevi\n",
        "#Rastgele Örnekleme Fonksiyonu\n",
        "def random_sample_class(df, label, min_samples, max_samples):\n",
        "    n_samples = np.random.randint(min_samples, max_samples + 1)\n",
        "    return resample(df[df['Label'] == label], n_samples=n_samples, random_state=42)\n",
        "\n",
        "# Yeniden örneklesnecek etiketleri tanımlayın\n",
        "#Örneklenmesi Gereken Etiketleri Tanımlama\n",
        "class_labels = ['Normal', 'DoS/DDoS', 'Port Scan', 'Brute Force']\n",
        "\n",
        "# Random_sample sınıf fonksiyonunu her sınıfa uygulayın\n",
        "resampled_dfs = [random_sample_class(df, label, min_samples, max_samples) for label in class_labels] #Her sınıf için bu fonksiyon çağrılarak, belirlenen aralıktaki rastgele örnek sayısı kadar veri seçilir.\n",
        "df_resampled = pd.concat(resampled_dfs + [df[df['Label'] == label] for label in df['Label'].unique() if label not in class_labels])  #Örnekleme yapılmayan sınıfları (class_labels listesinde olmayanları) seçer ve bunları olduğu gibi tutar.\n",
        "df = df_resampled #df artık yeni oluşturulan örneklenmiş veri çerçevesine atanır.\n",
        "\n",
        "print(df['Label'].value_counts()) #her sınıftaki örnek sayısını döndürür."
      ],
      "metadata": {
        "colab": {
          "base_uri": "https://localhost:8080/"
        },
        "id": "w4E0nKpgZlfk",
        "outputId": "2260c5bc-49bc-49ff-ecaf-4709f4be2003"
      },
      "execution_count": null,
      "outputs": [
        {
          "output_type": "stream",
          "name": "stdout",
          "text": [
            "Label\n",
            "Brute Force    2187\n",
            "Web Attack     2180\n",
            "DoS/DDoS       2075\n",
            "Normal         2054\n",
            "Port Scan      2020\n",
            "Botnet         1966\n",
            "Name: count, dtype: int64\n"
          ]
        }
      ]
    },
    {
      "cell_type": "markdown",
      "source": [
        "** **kalın metin**Ön işleme (normalleştirme ve dolgu değerleri)**\n"
      ],
      "metadata": {
        "id": "v050yE3galzG"
      }
    },
    {
      "cell_type": "code",
      "source": [
        "# Min-max normalizasyonu\n",
        "numeric_features = df.dtypes[df.dtypes != 'object'].index\n",
        "df[numeric_features] = df[numeric_features].apply(\n",
        "    lambda x: (x - x.min()) / (x.max()-x.min()))\n",
        "# Boş değerleri 0'a kadar doldur\n",
        "df = df.fillna(0)"
      ],
      "metadata": {
        "id": "y6Kk3blQatMk"
      },
      "execution_count": null,
      "outputs": []
    },
    {
      "cell_type": "code",
      "source": [
        "#bölünmüş tren seti ve test seti\n",
        "from sklearn.preprocessing import LabelEncoder\n",
        "labelencoder = LabelEncoder()\n",
        "df.iloc[:, -1] = labelencoder.fit_transform(df.iloc[:, -1])\n",
        "X = df.drop(['Label'],axis=1).values\n",
        "y = df.iloc[:, -1].values.reshape(-1,1)\n",
        "y=np.ravel(y)\n",
        "y = y.astype('int')\n",
        "X_train, X_test, y_train, y_test = train_test_split(X,y, train_size = 0.7, test_size = 0.3, random_state = 0,stratify = y)"
      ],
      "metadata": {
        "id": "8cp5nQR-azsC"
      },
      "execution_count": null,
      "outputs": []
    },
    {
      "cell_type": "code",
      "source": [
        "pd.Series(y_train).value_counts()"
      ],
      "metadata": {
        "id": "czp0XBUIbB-W"
      },
      "execution_count": null,
      "outputs": []
    },
    {
      "cell_type": "markdown",
      "source": [
        "**SMOTE ile aşırı örnekleme (Rastgele örnekleme kullanıldığı için kullanılmadı)**\n"
      ],
      "metadata": {
        "id": "Q3d3wdG9bJRj"
      }
    },
    {
      "cell_type": "code",
      "source": [
        "#Sonradan vazgeçildi kullanımından.\n",
        "#from imblearn.over_sampling import SMOTE\n",
        "#smote=SMOTE(n_jobs=-1,sampling_strategy={3:1100}) # Create 1100 samples for the minority class \"3\"\n",
        "#X_train, y_train = smote.fit_resample(X_train, y_train)"
      ],
      "metadata": {
        "id": "9t-pN9NzbKWL"
      },
      "execution_count": null,
      "outputs": []
    },
    {
      "cell_type": "markdown",
      "source": [
        "Makine öğrenimi modeli eğitimi\n",
        "**Dört temel öğrenicinin eğitimi: ***decision tree, random forest, extra trees, XGBoost***\n"
      ],
      "metadata": {
        "id": "eVQcjP7YbZCL"
      }
    },
    {
      "cell_type": "markdown",
      "source": [
        "Decision tree"
      ],
      "metadata": {
        "id": "Lj_Eg_2AbpGs"
      }
    },
    {
      "cell_type": "code",
      "source": [
        "# Karar ağacı eğitimi ve tahmini\n",
        "import time\n",
        "\n",
        "start_time = time.time()\n",
        "dt = DecisionTreeClassifier(criterion='gini', splitter= 'best', max_depth=5)\n",
        "dt.fit(X_train,y_train)\n",
        "training_time = time.time() - start_time\n",
        "\n",
        "dt_score=dt.score(X_test,y_test)\n",
        "y_predict=dt.predict(X_test)\n",
        "y_true=y_test\n",
        "print('Accuracy of DT: '+ str(dt_score))\n",
        "precision,recall,fscore,none= precision_recall_fscore_support(y_true, y_predict, average='weighted')\n",
        "print('Precision of DT: '+(str(precision)))\n",
        "print('Recall of DT: '+(str(recall)))\n",
        "print('F1-score of DT: '+(str(fscore)))\n",
        "print(\"Training time:\", training_time, \"s\")\n",
        "print(classification_report(y_true,y_predict))\n",
        "cm=confusion_matrix(y_true,y_predict)\n",
        "f,ax=plt.subplots(figsize=(5,5))\n",
        "sns.heatmap(cm,annot=True,linewidth=0.5,linecolor=\"red\",fmt=\".0f\",ax=ax)\n",
        "plt.xlabel(\"y_pred\")\n",
        "plt.ylabel(\"y_true\")\n",
        "plt.show()\n"
      ],
      "metadata": {
        "colab": {
          "base_uri": "https://localhost:8080/",
          "height": 777
        },
        "id": "pqDhI4AEbqzB",
        "outputId": "406bd49f-c360-43a9-a191-6ba1d008d68e"
      },
      "execution_count": null,
      "outputs": [
        {
          "output_type": "stream",
          "name": "stdout",
          "text": [
            "Accuracy of DT: 0.9538050734312417\n",
            "Precision of DT: 0.9578081051576443\n",
            "Recall of DT: 0.9538050734312417\n",
            "F1-score of DT: 0.9540948013993259\n",
            "Training time: 0.12183952331542969 s\n",
            "              precision    recall  f1-score   support\n",
            "\n",
            "           0       0.97      1.00      0.99       590\n",
            "           1       0.99      1.00      1.00       656\n",
            "           2       0.85      1.00      0.92       623\n",
            "           3       0.94      0.89      0.92       616\n",
            "           4       1.00      0.93      0.96       606\n",
            "           5       0.99      0.91      0.95       654\n",
            "\n",
            "    accuracy                           0.95      3745\n",
            "   macro avg       0.96      0.95      0.95      3745\n",
            "weighted avg       0.96      0.95      0.95      3745\n",
            "\n"
          ]
        },
        {
          "output_type": "display_data",
          "data": {
            "text/plain": [
              "<Figure size 500x500 with 2 Axes>"
            ],
            "image/png": "[encoded data removed]"
          },
          "metadata": {}
        }
      ]
    },
    {
      "cell_type": "code",
      "source": [
        "dt_train=dt.predict(X_train)\n",
        "dt_test=dt.predict(X_test)"
      ],
      "metadata": {
        "id": "5wUPn7fbcCFK"
      },
      "execution_count": null,
      "outputs": []
    },
    {
      "cell_type": "markdown",
      "source": [
        "Random Forest\n"
      ],
      "metadata": {
        "id": "dQtqWyKJcEdo"
      }
    },
    {
      "cell_type": "code",
      "source": [
        "start_time = time.time()\n",
        "\n",
        "# Random Forest training and prediction\n",
        "rf = RandomForestClassifier(n_estimators=100, criterion='gini', max_depth=5)\n",
        "rf.fit(X_train,y_train)\n",
        "training_time = time.time() - start_time\n",
        "\n",
        "rf_score=rf.score(X_test,y_test)\n",
        "y_predict=rf.predict(X_test)\n",
        "y_true=y_test\n",
        "print('Accuracy of RF: '+ str(rf_score))\n",
        "precision,recall,fscore,none= precision_recall_fscore_support(y_true, y_predict, average='weighted')\n",
        "print('Precision of RF: '+(str(precision)))\n",
        "print('Recall of RF: '+(str(recall)))\n",
        "print('F1-score of RF: '+(str(fscore)))\n",
        "print(\"Training time:\", training_time, \"s\")\n",
        "print(classification_report(y_true,y_predict))\n",
        "cm=confusion_matrix(y_true,y_predict)\n",
        "f,ax=plt.subplots(figsize=(5,5))\n",
        "sns.heatmap(cm,annot=True,linewidth=0.5,linecolor=\"red\",fmt=\".0f\",ax=ax)\n",
        "plt.xlabel(\"y_pred\")\n",
        "plt.ylabel(\"y_true\")\n",
        "plt.show()"
      ],
      "metadata": {
        "colab": {
          "base_uri": "https://localhost:8080/",
          "height": 777
        },
        "id": "a7v3fMDlcFNg",
        "outputId": "72126fb5-4530-488b-db79-f7d7c4a898bf"
      },
      "execution_count": null,
      "outputs": [
        {
          "output_type": "stream",
          "name": "stdout",
          "text": [
            "Accuracy of RF: 0.962082777036048\n",
            "Precision of RF: 0.9637189991650911\n",
            "Recall of RF: 0.962082777036048\n",
            "F1-score of RF: 0.9616312017071432\n",
            "Training time: 0.9794411659240723 s\n",
            "              precision    recall  f1-score   support\n",
            "\n",
            "           0       0.95      1.00      0.98       590\n",
            "           1       0.92      1.00      0.96       656\n",
            "           2       0.94      0.98      0.96       623\n",
            "           3       0.98      0.86      0.92       616\n",
            "           4       1.00      0.99      1.00       606\n",
            "           5       0.99      0.94      0.97       654\n",
            "\n",
            "    accuracy                           0.96      3745\n",
            "   macro avg       0.96      0.96      0.96      3745\n",
            "weighted avg       0.96      0.96      0.96      3745\n",
            "\n"
          ]
        },
        {
          "output_type": "display_data",
          "data": {
            "text/plain": [
              "<Figure size 500x500 with 2 Axes>"
            ],
            "image/png": "[encoded data removed]"
          },
          "metadata": {}
        }
      ]
    },
    {
      "cell_type": "code",
      "source": [
        "rf_train=rf.predict(X_train)\n",
        "rf_test=rf.predict(X_test)"
      ],
      "metadata": {
        "id": "irdAT-wgcV9J"
      },
      "execution_count": null,
      "outputs": []
    },
    {
      "cell_type": "code",
      "source": [
        "start_time = time.time()\n",
        "\n",
        "# Ekstra ağaç eğitimi ve tahmini\n",
        "et = ExtraTreesClassifier(max_depth=5)\n",
        "et.fit(X_train,y_train)\n",
        "training_time = time.time() - start_time\n",
        "\n",
        "et_score=et.score(X_test,y_test)\n",
        "y_predict=et.predict(X_test)\n",
        "y_true=y_test\n",
        "print('Accuracy of ET: '+ str(et_score))\n",
        "precision,recall,fscore,none= precision_recall_fscore_support(y_true, y_predict, average='weighted')\n",
        "print('Precision of ET: '+(str(precision)))\n",
        "print('Recall of ET: '+(str(recall)))\n",
        "print('F1-score of ET: '+(str(fscore)))\n",
        "print(\"Training time:\", training_time, \"s\")\n",
        "print(classification_report(y_true,y_predict))\n",
        "cm=confusion_matrix(y_true,y_predict)\n",
        "f,ax=plt.subplots(figsize=(5,5))\n",
        "sns.heatmap(cm,annot=True,linewidth=0.5,linecolor=\"red\",fmt=\".0f\",ax=ax)\n",
        "plt.xlabel(\"y_pred\")\n",
        "plt.ylabel(\"y_true\")\n",
        "plt.show()"
      ],
      "metadata": {
        "colab": {
          "base_uri": "https://localhost:8080/",
          "height": 777
        },
        "id": "3fH-ejQicXLZ",
        "outputId": "fa740d4b-95ed-414e-cc7f-cff449c5792f"
      },
      "execution_count": null,
      "outputs": [
        {
          "output_type": "stream",
          "name": "stdout",
          "text": [
            "Accuracy of ET: 0.897196261682243\n",
            "Precision of ET: 0.9122922112761249\n",
            "Recall of ET: 0.897196261682243\n",
            "F1-score of ET: 0.8960291616353787\n",
            "Training time: 0.41733455657958984 s\n",
            "              precision    recall  f1-score   support\n",
            "\n",
            "           0       0.92      1.00      0.96       590\n",
            "           1       0.73      1.00      0.85       656\n",
            "           2       1.00      0.72      0.83       623\n",
            "           3       0.92      0.77      0.84       616\n",
            "           4       0.97      0.99      0.98       606\n",
            "           5       0.94      0.91      0.93       654\n",
            "\n",
            "    accuracy                           0.90      3745\n",
            "   macro avg       0.91      0.90      0.90      3745\n",
            "weighted avg       0.91      0.90      0.90      3745\n",
            "\n"
          ]
        },
        {
          "output_type": "display_data",
          "data": {
            "text/plain": [
              "<Figure size 500x500 with 2 Axes>"
            ],
            "image/png": "[encoded data removed]"
          },
          "metadata": {}
        }
      ]
    },
    {
      "cell_type": "code",
      "source": [
        "et_train=et.predict(X_train)\n",
        "et_test=et.predict(X_test)"
      ],
      "metadata": {
        "id": "osPe-4K9cjCA"
      },
      "execution_count": null,
      "outputs": []
    },
    {
      "cell_type": "code",
      "source": [
        "start_time = time.time()\n",
        "\n",
        "\n",
        "# XGBoost eğitimi ve tahmini\n",
        "xg = xgb.XGBClassifier(n_estimators=3)\n",
        "xg.fit(X_train, y_train)\n",
        "training_time = time.time() - start_time\n",
        "\n",
        "xg_score = xg.score(X_test, y_test)\n",
        "y_predict = xg.predict(X_test)\n",
        "y_true = y_test\n",
        "print('Accuracy of XGBoost: ' + str(xg_score))\n",
        "\n",
        "# Hassasiyeti, geri çağırmayı ve F1 puanını hesaplayın\n",
        "precision, recall, fscore, support = precision_recall_fscore_support(y_true, y_predict, average='weighted')\n",
        "print('Precision of XGBoost: ' + str(precision))\n",
        "print('Recall of XGBoost: ' + str(recall))\n",
        "print('F1-score of XGBoost: ' + str(fscore))\n",
        "print(\"Training time:\", training_time, \"s\")\n",
        "\n",
        "# Sınıflandırma raporunu yazdır\n",
        "print(classification_report(y_true, y_predict))\n",
        "\n",
        "\n",
        "# Karışıklık matrisini çizin\n",
        "cm = confusion_matrix(y_true, y_predict)\n",
        "f, ax = plt.subplots(figsize=(5, 5))\n",
        "sns.heatmap(cm, annot=True, linewidth=0.5, linecolor=\"red\", fmt=\".0f\", ax=ax)\n",
        "plt.xlabel(\"y_pred\")\n",
        "plt.ylabel(\"y_true\")\n",
        "plt.show()"
      ],
      "metadata": {
        "colab": {
          "base_uri": "https://localhost:8080/",
          "height": 777
        },
        "id": "CT4KvM0jckP7",
        "outputId": "580e0151-09a9-4988-9cd9-7c5c99b1af75"
      },
      "execution_count": null,
      "outputs": [
        {
          "output_type": "stream",
          "name": "stdout",
          "text": [
            "Accuracy of XGBoost: 0.9887850467289719\n",
            "Precision of XGBoost: 0.9887898957396754\n",
            "Recall of XGBoost: 0.9887850467289719\n",
            "F1-score of XGBoost: 0.9887634456550171\n",
            "Training time: 0.28057169914245605 s\n",
            "              precision    recall  f1-score   support\n",
            "\n",
            "           0       0.99      1.00      0.99       590\n",
            "           1       0.99      1.00      1.00       656\n",
            "           2       1.00      0.99      0.99       623\n",
            "           3       0.98      0.96      0.97       616\n",
            "           4       1.00      0.99      1.00       606\n",
            "           5       0.98      0.99      0.99       654\n",
            "\n",
            "    accuracy                           0.99      3745\n",
            "   macro avg       0.99      0.99      0.99      3745\n",
            "weighted avg       0.99      0.99      0.99      3745\n",
            "\n"
          ]
        },
        {
          "output_type": "display_data",
          "data": {
            "text/plain": [
              "<Figure size 500x500 with 2 Axes>"
            ],
            "image/png": "[encoded data removed]"
          },
          "metadata": {}
        }
      ]
    },
    {
      "cell_type": "code",
      "source": [
        "xg_train=xg.predict(X_train)\n",
        "xg_test=xg.predict(X_test)"
      ],
      "metadata": {
        "id": "Pc0b109Hc2NT"
      },
      "execution_count": null,
      "outputs": []
    },
    {
      "cell_type": "markdown",
      "source": [
        "Yığınlama modeli yapımı (4 temel öğrenici için topluluk)\n",
        "//Bundan sonraki ekstra olarak yapılmıştır ve bir kaç deneme yapılmış olup, özellikleri ayıklayarak yapılmıştır.\n",
        "\n",
        "\n",
        "\n",
        "---\n",
        "\n",
        "\\\\\\\\\\\\\n",
        "\n",
        "> Blok alıntı ekle\n",
        "\n",
        "> Blok alıntı ekle\n",
        "\n",
        "> Blok alıntı ekle\n",
        "\n",
        "\n",
        "\n",
        "\n",
        "\n"
      ],
      "metadata": {
        "id": "6xhc1igQc7tS"
      }
    },
    {
      "cell_type": "code",
      "source": [
        "# Yeni bir topluluk modeli oluşturmak için 4 temel modelin çıktılarını kullanın\n",
        "base_predictions_train = pd.DataFrame( {\n",
        "    'DecisionTree': dt_train.ravel(),\n",
        "        'RandomForest': rf_train.ravel(),\n",
        "     'ExtraTrees': et_train.ravel(),\n",
        "     'XgBoost': xg_train.ravel(),\n",
        "    })\n",
        "base_predictions_train.head(5)"
      ],
      "metadata": {
        "id": "cDcyIfgRc8wG"
      },
      "execution_count": null,
      "outputs": []
    },
    {
      "cell_type": "code",
      "source": [
        "dt_train=dt_train.reshape(-1, 1)\n",
        "et_train=et_train.reshape(-1, 1)\n",
        "rf_train=rf_train.reshape(-1, 1)\n",
        "xg_train=xg_train.reshape(-1, 1)\n",
        "dt_test=dt_test.reshape(-1, 1)\n",
        "et_test=et_test.reshape(-1, 1)\n",
        "rf_test=rf_test.reshape(-1, 1)\n",
        "xg_test=xg_test.reshape(-1, 1)"
      ],
      "metadata": {
        "id": "k9fuHjjldEtB"
      },
      "execution_count": null,
      "outputs": []
    },
    {
      "cell_type": "code",
      "source": [
        "x_train = np.concatenate(( dt_train, et_train, rf_train, xg_train), axis=1)\n",
        "x_test = np.concatenate(( dt_test, et_test, rf_test, xg_test), axis=1)"
      ],
      "metadata": {
        "id": "b7RWJy6mdH_r"
      },
      "execution_count": null,
      "outputs": []
    },
    {
      "cell_type": "code",
      "source": [
        "start_time = time.time()\n",
        "stk = xgb.XGBClassifier().fit(x_train, y_train)\n",
        "training_time = time.time() - start_time\n",
        "\n",
        "y_predict=stk.predict(x_test)\n",
        "y_true=y_test\n",
        "stk_score=accuracy_score(y_true,y_predict)\n",
        "print('Accuracy of Stacking: '+ str(stk_score))\n",
        "precision,recall,fscore,none= precision_recall_fscore_support(y_true, y_predict, average='weighted')\n",
        "print('Precision of Stacking: '+(str(precision)))\n",
        "print('Recall of Stacking: '+(str(recall)))\n",
        "print('F1-score of Stacking: '+(str(fscore)))\n",
        "print(\"Training time:\", training_time, \"s\")\n",
        "print(classification_report(y_true,y_predict))\n",
        "cm=confusion_matrix(y_true,y_predict)\n",
        "f,ax=plt.subplots(figsize=(5,5))\n",
        "sns.heatmap(cm,annot=True,linewidth=0.5,linecolor=\"red\",fmt=\".0f\",ax=ax)\n",
        "plt.xlabel(\"y_pred\")\n",
        "plt.ylabel(\"y_true\")\n",
        "plt.show()"
      ],
      "metadata": {
        "id": "cW7ZV83JdJJI"
      },
      "execution_count": null,
      "outputs": []
    },
    {
      "cell_type": "markdown",
      "source": [
        "Özellik Seçimi\n"
      ],
      "metadata": {
        "id": "q44nFhVodSLB"
      }
    },
    {
      "cell_type": "code",
      "source": [
        "# Dört ağaç tabanlı algoritma tarafından oluşturulan özellik önem listelerini kaydedin\n",
        "dt_feature = dt.feature_importances_\n",
        "rf_feature = rf.feature_importances_\n",
        "et_feature = et.feature_importances_\n",
        "xgb_feature = xg.feature_importances_"
      ],
      "metadata": {
        "id": "zms2rqMHdS8y"
      },
      "execution_count": null,
      "outputs": []
    },
    {
      "cell_type": "code",
      "source": [
        "\n",
        "# her özelliğin ortalama önem değerini hesaplayın\n",
        "avg_feature = (dt_feature + rf_feature + et_feature + xgb_feature)/4"
      ],
      "metadata": {
        "id": "d_qrTg6sdYZ8"
      },
      "execution_count": null,
      "outputs": []
    },
    {
      "cell_type": "code",
      "source": [
        "feature=(df.drop(['Label'],axis=1)).columns.values\n",
        "print (\"Features sorted by their score:\")\n",
        "print (sorted(zip(map(lambda x: round(x, 4), avg_feature), feature), reverse=True))"
      ],
      "metadata": {
        "id": "buwsw9A2ddon"
      },
      "execution_count": null,
      "outputs": []
    },
    {
      "cell_type": "code",
      "source": [
        "f_list = sorted(zip(map(lambda x: round(x, 4), avg_feature), feature), reverse=True)"
      ],
      "metadata": {
        "id": "PeP57Jbpdh9g"
      },
      "execution_count": null,
      "outputs": []
    },
    {
      "cell_type": "code",
      "source": [
        "len(f_list)"
      ],
      "metadata": {
        "id": "O3CtsgjadkPt"
      },
      "execution_count": null,
      "outputs": []
    },
    {
      "cell_type": "code",
      "source": [
        "# Birikmiş önem 0,9'a (1 üzerinden) ulaşana kadar önemli özellikleri en önemliden en düşük öneme kadar seçin\n",
        "Sum=0\n",
        "fs = []\n",
        "for i in range(0, len(f_list)):\n",
        "    Sum = Sum + f_list[i][0]\n",
        "    fs.append(f_list[i][1])\n",
        "    if Sum>=0.9:\n",
        "        break"
      ],
      "metadata": {
        "id": "SLC3vb4qdmFO"
      },
      "execution_count": null,
      "outputs": []
    },
    {
      "cell_type": "code",
      "source": [
        "len(fs)"
      ],
      "metadata": {
        "id": "gaz9umn2dz6E"
      },
      "execution_count": null,
      "outputs": []
    },
    {
      "cell_type": "code",
      "source": [
        "X_fs = df[fs].values"
      ],
      "metadata": {
        "id": "givDZohyd1hX"
      },
      "execution_count": null,
      "outputs": []
    },
    {
      "cell_type": "code",
      "source": [
        "X_train, X_test, y_train, y_test = train_test_split(X_fs,y, train_size = 0.7, test_size = 0.3, random_state = 0,stratify = y)"
      ],
      "metadata": {
        "id": "s7i4uTjZd31N"
      },
      "execution_count": null,
      "outputs": []
    },
    {
      "cell_type": "code",
      "source": [
        "X_train.shape"
      ],
      "metadata": {
        "id": "h9n6kkkLd6xT"
      },
      "execution_count": null,
      "outputs": []
    },
    {
      "cell_type": "code",
      "source": [
        "pd.Series(y_train).value_counts()"
      ],
      "metadata": {
        "id": "GKpwL9R8d74F"
      },
      "execution_count": null,
      "outputs": []
    },
    {
      "cell_type": "markdown",
      "source": [
        "Özellik seçiminden sonra makine öğrenimi modeli eğitimi\n"
      ],
      "metadata": {
        "id": "_rf51CzueDzt"
      }
    },
    {
      "cell_type": "code",
      "source": [
        "dt = DecisionTreeClassifier(max_depth=5)\n",
        "dt.fit(X_train,y_train)\n",
        "dt_score=dt.score(X_test,y_test)\n",
        "y_predict=dt.predict(X_test)\n",
        "y_true=y_test\n",
        "print('Accuracy of DT: '+ str(dt_score))\n",
        "precision,recall,fscore,none= precision_recall_fscore_support(y_true, y_predict, average='weighted')\n",
        "print('Precision of DT: '+(str(precision)))\n",
        "print('Recall of DT: '+(str(recall)))\n",
        "print('F1-score of DT: '+(str(fscore)))\n",
        "print(classification_report(y_true,y_predict))\n",
        "cm=confusion_matrix(y_true,y_predict)\n",
        "f,ax=plt.subplots(figsize=(5,5))\n",
        "sns.heatmap(cm,annot=True,linewidth=0.5,linecolor=\"red\",fmt=\".0f\",ax=ax)\n",
        "plt.xlabel(\"y_pred\")\n",
        "plt.ylabel(\"y_true\")\n",
        "plt.show()"
      ],
      "metadata": {
        "id": "ZOTFtxWveEYK"
      },
      "execution_count": null,
      "outputs": []
    },
    {
      "cell_type": "code",
      "source": [
        "dt_train=dt.predict(X_train)\n",
        "dt_test=dt.predict(X_test)"
      ],
      "metadata": {
        "id": "dCCLAGUHeJo9"
      },
      "execution_count": null,
      "outputs": []
    },
    {
      "cell_type": "code",
      "source": [
        "rf = RandomForestClassifier(max_depth=5)\n",
        "rf.fit(X_train,y_train)\n",
        "rf_score=rf.score(X_test,y_test)\n",
        "y_predict=rf.predict(X_test)\n",
        "y_true=y_test\n",
        "print('Accuracy of RF: '+ str(rf_score))\n",
        "precision,recall,fscore,none= precision_recall_fscore_support(y_true, y_predict, average='weighted')\n",
        "print('Precision of RF: '+(str(precision)))\n",
        "print('Recall of RF: '+(str(recall)))\n",
        "print('F1-score of RF: '+(str(fscore)))\n",
        "print(classification_report(y_true,y_predict))\n",
        "cm=confusion_matrix(y_true,y_predict)\n",
        "f,ax=plt.subplots(figsize=(5,5))\n",
        "sns.heatmap(cm,annot=True,linewidth=0.5,linecolor=\"red\",fmt=\".0f\",ax=ax)\n",
        "plt.xlabel(\"y_pred\")\n",
        "plt.ylabel(\"y_true\")\n",
        "plt.show()"
      ],
      "metadata": {
        "id": "5ISVb5OYeLlg"
      },
      "execution_count": null,
      "outputs": []
    },
    {
      "cell_type": "code",
      "source": [
        "rf_train=rf.predict(X_train)\n",
        "rf_test=rf.predict(X_test)"
      ],
      "metadata": {
        "id": "SAzQFPRyeOnW"
      },
      "execution_count": null,
      "outputs": []
    },
    {
      "cell_type": "code",
      "source": [
        "et = ExtraTreesClassifier(max_depth=5)\n",
        "et.fit(X_train,y_train)\n",
        "et_score=et.score(X_test,y_test)\n",
        "y_predict=et.predict(X_test)\n",
        "y_true=y_test\n",
        "print('Accuracy of ET: '+ str(et_score))\n",
        "precision,recall,fscore,none= precision_recall_fscore_support(y_true, y_predict, average='weighted')\n",
        "print('Precision of ET: '+(str(precision)))\n",
        "print('Recall of ET: '+(str(recall)))\n",
        "print('F1-score of ET: '+(str(fscore)))\n",
        "print(classification_report(y_true,y_predict))\n",
        "cm=confusion_matrix(y_true,y_predict)\n",
        "f,ax=plt.subplots(figsize=(5,5))\n",
        "sns.heatmap(cm,annot=True,linewidth=0.5,linecolor=\"red\",fmt=\".0f\",ax=ax)\n",
        "plt.xlabel(\"y_pred\")\n",
        "plt.ylabel(\"y_true\")\n",
        "plt.show()"
      ],
      "metadata": {
        "id": "s9qQa7BSeQiw"
      },
      "execution_count": null,
      "outputs": []
    },
    {
      "cell_type": "code",
      "source": [
        "et_train=et.predict(X_train)\n",
        "et_test=et.predict(X_test)"
      ],
      "metadata": {
        "id": "IzVToKKUeULg"
      },
      "execution_count": null,
      "outputs": []
    },
    {
      "cell_type": "code",
      "source": [
        "xg = xgb.XGBClassifier(n_estimators = 3)\n",
        "xg.fit(X_train,y_train)\n",
        "xg_score=xg.score(X_test,y_test)\n",
        "y_predict=xg.predict(X_test)\n",
        "y_true=y_test\n",
        "print('Accuracy of XGBoost: '+ str(xg_score))\n",
        "precision,recall,fscore,none= precision_recall_fscore_support(y_true, y_predict, average='weighted')\n",
        "print('Precision of XGBoost: '+(str(precision)))\n",
        "print('Recall of XGBoost: '+(str(recall)))\n",
        "print('F1-score of XGBoost: '+(str(fscore)))\n",
        "print(classification_report(y_true,y_predict))\n",
        "cm=confusion_matrix(y_true,y_predict)\n",
        "f,ax=plt.subplots(figsize=(5,5))\n",
        "sns.heatmap(cm,annot=True,linewidth=0.5,linecolor=\"red\",fmt=\".0f\",ax=ax)\n",
        "plt.xlabel(\"y_pred\")\n",
        "plt.ylabel(\"y_true\")\n",
        "plt.show()"
      ],
      "metadata": {
        "id": "5wR1RZkoeV1l"
      },
      "execution_count": null,
      "outputs": []
    },
    {
      "cell_type": "code",
      "source": [
        "xg_train=xg.predict(X_train)\n",
        "xg_test=xg.predict(X_test)"
      ],
      "metadata": {
        "id": "jN7bxfc9eYre"
      },
      "execution_count": null,
      "outputs": []
    },
    {
      "cell_type": "markdown",
      "source": [
        "Yığınlama modeli yapımı\n"
      ],
      "metadata": {
        "id": "eN8kvqnZed5g"
      }
    },
    {
      "cell_type": "code",
      "source": [
        "base_predictions_train = pd.DataFrame( {\n",
        "    'DecisionTree': dt_train.ravel(),\n",
        "        'RandomForest': rf_train.ravel(),\n",
        "     'ExtraTrees': et_train.ravel(),\n",
        "     'XgBoost': xg_train.ravel(),\n",
        "    })\n",
        "base_predictions_train.head(5)"
      ],
      "metadata": {
        "id": "U6S_HKKCeeY0"
      },
      "execution_count": null,
      "outputs": []
    },
    {
      "cell_type": "code",
      "source": [
        "dt_train=dt_train.reshape(-1, 1)\n",
        "et_train=et_train.reshape(-1, 1)\n",
        "rf_train=rf_train.reshape(-1, 1)\n",
        "xg_train=xg_train.reshape(-1, 1)\n",
        "dt_test=dt_test.reshape(-1, 1)\n",
        "et_test=et_test.reshape(-1, 1)\n",
        "rf_test=rf_test.reshape(-1, 1)\n",
        "xg_test=xg_test.reshape(-1, 1)"
      ],
      "metadata": {
        "id": "conF_mA9egsA"
      },
      "execution_count": null,
      "outputs": []
    },
    {
      "cell_type": "code",
      "source": [
        "x_train = np.concatenate(( dt_train, et_train, rf_train, xg_train), axis=1)\n",
        "x_test = np.concatenate(( dt_test, et_test, rf_test, xg_test), axis=1)"
      ],
      "metadata": {
        "id": "-V2u-tt1eji8"
      },
      "execution_count": null,
      "outputs": []
    },
    {
      "cell_type": "code",
      "source": [
        "stk = xgb.XGBClassifier().fit(x_train, y_train)\n",
        "y_predict=stk.predict(x_test)\n",
        "y_true=y_test\n",
        "stk_score=accuracy_score(y_true,y_predict)\n",
        "print('Accuracy of Stacking: '+ str(stk_score))\n",
        "precision,recall,fscore,none= precision_recall_fscore_support(y_true, y_predict, average='weighted')\n",
        "print('Precision of Stacking: '+(str(precision)))\n",
        "print('Recall of Stacking: '+(str(recall)))\n",
        "print('F1-score of Stacking: '+(str(fscore)))\n",
        "print(classification_report(y_true,y_predict))\n",
        "cm=confusion_matrix(y_true,y_predict)\n",
        "f,ax=plt.subplots(figsize=(5,5))\n",
        "sns.heatmap(cm,annot=True,linewidth=0.5,linecolor=\"red\",fmt=\".0f\",ax=ax)\n",
        "plt.xlabel(\"y_pred\")\n",
        "plt.ylabel(\"y_true\")\n",
        "plt.show()"
      ],
      "metadata": {
        "id": "jz0QSqZMela4"
      },
      "execution_count": null,
      "outputs": []
    }
  ]
}